{
 "cells": [
  {
   "cell_type": "code",
   "execution_count": 6,
   "id": "e6ffd39a",
   "metadata": {},
   "outputs": [
    {
     "name": "stdout",
     "output_type": "stream",
     "text": [
      "Write a word virangana\n",
      "Reverse of given word is anagnariv\n"
     ]
    }
   ],
   "source": [
    "#Reverse of word\n",
    "x=input(\"Write a word \")\n",
    "x\n",
    "print(\"Reverse of given word is\",x[::-1])"
   ]
  },
  {
   "cell_type": "code",
   "execution_count": null,
   "id": "d734d6a2",
   "metadata": {},
   "outputs": [],
   "source": []
  }
 ],
 "metadata": {
  "kernelspec": {
   "display_name": "Python 3 (ipykernel)",
   "language": "python",
   "name": "python3"
  },
  "language_info": {
   "codemirror_mode": {
    "name": "ipython",
    "version": 3
   },
   "file_extension": ".py",
   "mimetype": "text/x-python",
   "name": "python",
   "nbconvert_exporter": "python",
   "pygments_lexer": "ipython3",
   "version": "3.9.12"
  }
 },
 "nbformat": 4,
 "nbformat_minor": 5
}
