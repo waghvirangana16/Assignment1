{
 "cells": [
  {
   "cell_type": "code",
   "execution_count": 33,
   "id": "71d9640e",
   "metadata": {},
   "outputs": [
    {
     "name": "stdout",
     "output_type": "stream",
     "text": [
      "Give a series of Numbers 125688302\n",
      "Number of even numbers:  6\n",
      "Number of even numbers:  3\n"
     ]
    }
   ],
   "source": [
    "#count of odd and even numbers\n",
    "x=list(input(\"Give a series of Numbers \"))\n",
    "a=0\n",
    "b=0\n",
    "for i in x:\n",
    "    if(int(i)%2==0):\n",
    "        a=a+1\n",
    "    else:\n",
    "        b=b+1\n",
    "print(\"Number of even numbers: \",a)\n",
    "print(\"Number of even numbers: \",b)"
   ]
  },
  {
   "cell_type": "code",
   "execution_count": null,
   "id": "99695681",
   "metadata": {},
   "outputs": [],
   "source": []
  }
 ],
 "metadata": {
  "kernelspec": {
   "display_name": "Python 3 (ipykernel)",
   "language": "python",
   "name": "python3"
  },
  "language_info": {
   "codemirror_mode": {
    "name": "ipython",
    "version": 3
   },
   "file_extension": ".py",
   "mimetype": "text/x-python",
   "name": "python",
   "nbconvert_exporter": "python",
   "pygments_lexer": "ipython3",
   "version": "3.9.12"
  }
 },
 "nbformat": 4,
 "nbformat_minor": 5
}
